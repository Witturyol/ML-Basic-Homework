{
 "cells": [
  {
   "cell_type": "markdown",
   "id": "f422162d",
   "metadata": {},
   "source": [
    "1. Пользователь вводит пятизначное число. Программа должна зеркально отразить центральные три цифры. Первая и последняя остаются на местах."
   ]
  },
  {
   "cell_type": "code",
   "execution_count": 10,
   "id": "6ee46673",
   "metadata": {},
   "outputs": [
    {
     "name": "stdout",
     "output_type": "stream",
     "text": [
      "Начальная последовательность: ['4', '5', '6', '7', '8']\n",
      "Обратная последовательность:  ['4', '7', '6', '5', '8']\n"
     ]
    }
   ],
   "source": [
    "numbers = \"45678\"                       # Можно заменить на input() \n",
    "numbers = list(numbers)                 # Преобразуем в список для извлечения по индексам\n",
    "print(f\"Начальная последовательность: {numbers}\")\n",
    "\n",
    "#numbers[1:-1] = numbers[-2:0:-1]       # Вариант №1 напрямую без циклов\n",
    "#numbers[1:-1] = numbers[1:-1][::-1]    # Вариант №2\n",
    "#print(f\"Начальная последовательность: {numbers}\")\n",
    "\n",
    "slice_num = numbers[1:-1]               # Вариант №3: Через переменную и цикл for\n",
    "for i in range(len(slice_num)//2):\n",
    "    slice_num[i], slice_num[-i-1] = slice_num[-i-1], slice_num[i]   # Вариант №3.1\n",
    "    #slice_num = slice_num[::-1]                                      # Вариант №3.2\n",
    "numbers[1:-1] = slice_num               # Присваиваем обратный срез по условию\n",
    "print(f\"Обратная последовательность:  {numbers}\")"
   ]
  },
  {
   "cell_type": "markdown",
   "id": "b9ebdff2",
   "metadata": {},
   "source": [
    "2. Отпуск. Пользователь вводит сколько дней осталось до ближайшего отпуска. Программа должна вывести количество выходных дней до отпуска, если учесть? что выходные это суббота и воскресенье, сегодня понедельник и праздники мы не учитываем.\n"
   ]
  },
  {
   "cell_type": "code",
   "execution_count": 6,
   "id": "7503e4e3",
   "metadata": {},
   "outputs": [
    {
     "name": "stdout",
     "output_type": "stream",
     "text": [
      "Кол-во выходных до отпуска: 5\n"
     ]
    }
   ],
   "source": [
    "days = int(input(\"Введите кол-во дней до отпуска: \"))   \n",
    "\n",
    "weeks = days // 7       # Полные недели\n",
    "remainder = days % 7    # Оставшиеся дни\n",
    "\n",
    "weekends = weeks * 2    # По 2 выходных в неделе\n",
    "if remainder > 5:       # +1 выходной, если 5<x<7\n",
    "    weekends += 1\n",
    "print(f\"Кол-во выходных до отпуска: {weekends}\")\n"
   ]
  },
  {
   "cell_type": "markdown",
   "id": "86562da9",
   "metadata": {},
   "source": [
    "3. Пользователь вводит длину и ширину плитки шоколада, а также размер куска, который хочет отломить, программа должна вычислить - можно ли совершить подобный разлом или нет, если учесть, что ломать можно только по прямой"
   ]
  },
  {
   "cell_type": "code",
   "execution_count": null,
   "id": "64900eee",
   "metadata": {},
   "outputs": [
    {
     "name": "stdout",
     "output_type": "stream",
     "text": [
      "Ширина и длина плитки шоколада: 4 x 5 дольки\n",
      "У плитки шоколада всего 20 долек\n",
      "Вы хотите отломить: 12\n",
      "Вы удачно отломили кусок! Кушайте.\n"
     ]
    }
   ],
   "source": [
    "# Вариант №1\n",
    "chocolate_width = int(input(\"Введите ширину плитки шоколада в дольках: \"))\n",
    "chocolate_length = int(input(\"Введите длину плитки шоколада в дольках: \"))\n",
    "chocolate_size = chocolate_width * chocolate_length\n",
    "print(f\"Ширина и длина плитки шоколада: {chocolate_width} x {chocolate_length} дольки\")\n",
    "print(f\"У плитки шоколада всего {chocolate_size} долек\")\n",
    "\n",
    "chocolate_pieces = int(input(\"Введите кол-во долек, которые хотите отломить одним разом: \"))\n",
    "print(f\"Вы хотите отломить: {chocolate_pieces}\")\n",
    "if (chocolate_pieces % chocolate_width == 0 or chocolate_pieces % chocolate_length == 0) and (chocolate_size >= chocolate_pieces) and (chocolate_pieces > 0):\n",
    "    print(\"Вы удачно отломили кусок! Кушайте.\")\n",
    "else: \n",
    "    print(\"Такого быть не может! Голодайте.\")\n",
    "\n",
    "\n"
   ]
  },
  {
   "cell_type": "code",
   "execution_count": 54,
   "id": "3ee8c83c",
   "metadata": {},
   "outputs": [
    {
     "name": "stdout",
     "output_type": "stream",
     "text": [
      "False\n"
     ]
    }
   ],
   "source": [
    "# Вариант №2\n",
    "def break_off_chocolate (length, width, pieces):\n",
    "    size = length * width\n",
    "    if (pieces  % width == 0 or pieces % length == 0) and (pieces > 0) and (size >= pieces):\n",
    "        return True\n",
    "    else:\n",
    "        return False\n",
    "\n",
    "print(break_off_chocolate(4, 5, 13))"
   ]
  },
  {
   "cell_type": "markdown",
   "id": "4cd57e9b",
   "metadata": {},
   "source": [
    "4. Пользователь вводит целое положительное число, программа должна вернуть строку в виде римского числа"
   ]
  },
  {
   "cell_type": "code",
   "execution_count": 110,
   "id": "8cbe1787",
   "metadata": {},
   "outputs": [
    {
     "name": "stdout",
     "output_type": "stream",
     "text": [
      "Римское число: CLXVI\n"
     ]
    }
   ],
   "source": [
    "\n",
    "# Вариант №1: Через множество условий if\n",
    "#if hundredths := dec_number // 100:\n",
    "#    dec_number -= hundredths * 100\n",
    "#    roman_number += hundredths * \"C\"\n",
    "\n",
    "# Вариант №2: Через словарь\n",
    "def int_to_roman_numb(dec_number):\n",
    "    roman_str = \"\"     # Инициализируем в качестве str\n",
    "    roman_signs = { 1000: 'M', 900: 'CM', 500: 'D', 400: 'CD',\n",
    "                    100: 'C', 90: 'XC', 50: 'L', 40: 'XL',\n",
    "                    10: 'X', 9: 'IX', 5: 'V', 4: 'IV', 1: 'I' }\n",
    "    \n",
    "    for values, symbols in roman_signs.items():\n",
    "        while dec_number // values != 0:\n",
    "            roman_str += symbols\n",
    "            dec_number -= values\n",
    "    return roman_str\n",
    "\n",
    "dec_number = int(input(\"Введите целое положительное число: \"))\n",
    "print(f\"Римское число: {int_to_roman_numb(dec_number)}\")"
   ]
  },
  {
   "cell_type": "markdown",
   "id": "6eeb460c",
   "metadata": {},
   "source": [
    "5. Пользователь вводит данные, проверить - являются ли они положительным вещественным числом. Не использовать встроенные функции для проверки, только методы данных и конструкцию IF. (Дополнительное задание, по желанию - проверка на отрицательные вещественные числа)"
   ]
  },
  {
   "cell_type": "code",
   "execution_count": 207,
   "id": "4e8db9e8",
   "metadata": {},
   "outputs": [
    {
     "name": "stdout",
     "output_type": "stream",
     "text": [
      "Символ - является знаком минус!\n",
      "Символ 9 является числом!\n",
      "Символ 9 является числом!\n",
      "Символ . является разделителем!\n",
      "Символ 5 является числом!\n",
      "Число -99.5 является отрицательным вещественным числом!\n"
     ]
    }
   ],
   "source": [
    "float_number = input(\"Введите положительное вещественное число (с точкой): \")\n",
    "point_here = 0\n",
    "number_here = False\n",
    "negative_here = 0\n",
    "\n",
    "for i in range(len(float_number)):\n",
    "    char = float_number[i]\n",
    "    \n",
    "    if char == (\"-\"):\n",
    "        print(f\"Символ {char} является знаком минус!\")\n",
    "        negative_here += 1\n",
    "        continue\n",
    "\n",
    "    if char == (\".\"):\n",
    "        print(f\"Символ {char} является разделителем!\")\n",
    "        point_here += 1\n",
    "        continue\n",
    "    \n",
    "    if (\"0\" <= char <= \"9\"): # Числа представлены в ASCII-коде, поэтому сравнение данных типа str корректно\n",
    "        print(f\"Символ {char} является числом!\")\n",
    "        number_here = True\n",
    "    else:\n",
    "        print(f\"Символ {char} НЕ является числом!\")\n",
    "        break\n",
    "    \n",
    "if number_here and (point_here <= 1) and (negative_here <= 1):\n",
    "    if negative_here == 1:\n",
    "        print(f\"Число {float_number} является отрицательным вещественным числом!\")\n",
    "    else:\n",
    "        print(f\"Число {float_number} является положительным вещественным числом!\")\n",
    "\n",
    "elif negative_here > 1:\n",
    "    print(f\"Минус у числа {float_number} повторяется! Теперь это не число!\")\n",
    "elif point_here > 1:\n",
    "    print(f\"Точка у числа {float_number} повторяется! Теперь это не число!\")\n",
    "elif negative_here > 1:\n",
    "    print(f\"Минус у числа {float_number} повторяется! Теперь это не число!\")\n",
    "else:\n",
    "    print(f\"Символы {float_number} НЕ является вещественным числом!\")\n"
   ]
  }
 ],
 "metadata": {
  "kernelspec": {
   "display_name": "Python 3",
   "language": "python",
   "name": "python3"
  },
  "language_info": {
   "codemirror_mode": {
    "name": "ipython",
    "version": 3
   },
   "file_extension": ".py",
   "mimetype": "text/x-python",
   "name": "python",
   "nbconvert_exporter": "python",
   "pygments_lexer": "ipython3",
   "version": "3.13.2"
  }
 },
 "nbformat": 4,
 "nbformat_minor": 5
}
