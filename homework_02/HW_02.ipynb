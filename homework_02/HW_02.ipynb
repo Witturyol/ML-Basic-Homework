{
 "cells": [
  {
   "cell_type": "markdown",
   "id": "9eaf589f",
   "metadata": {},
   "source": [
    "1. Пользователь вводит целое число, программа складывает все цифры числа, с полученным числом — то же самое, и так до тех пор, пока не получится однозначное число."
   ]
  },
  {
   "cell_type": "code",
   "execution_count": 22,
   "id": "16ded035",
   "metadata": {},
   "outputs": [
    {
     "name": "stdout",
     "output_type": "stream",
     "text": [
      "Начальное число: 12345\n",
      "Конечное число: 6\n"
     ]
    }
   ],
   "source": [
    "# Вариант №1\n",
    "str_numbers = input(\"Введите целое положительное число: \")\n",
    "print(f\"Начальное число: {str_numbers}\")\n",
    "\n",
    "while len(str_numbers) > 1:\n",
    "    result = 0\n",
    "    for digit in str_numbers:\n",
    "        result += int(digit)\n",
    "    str_numbers = str(result)\n",
    "\n",
    "print(f\"Конечное число: {str_numbers}\")\n"
   ]
  },
  {
   "cell_type": "code",
   "execution_count": null,
   "id": "89602aa5",
   "metadata": {},
   "outputs": [
    {
     "name": "stdout",
     "output_type": "stream",
     "text": [
      "Начальное число: 123456\n",
      "Конечное число: 3\n"
     ]
    }
   ],
   "source": [
    "# Вариант №2\n",
    "numbers = input(\"Введите целое положительное число: \")\n",
    "print(f\"Начальное число: {numbers}\")\n",
    "\n",
    "while len(str(numbers)) > 1:\n",
    "    numbers = (sum(int(digit) for digit in str(numbers)))\n",
    "\n",
    "print(f\"Конечное число: {numbers}\")"
   ]
  },
  {
   "cell_type": "markdown",
   "id": "27e134b0",
   "metadata": {},
   "source": [
    "2. Кинотеатр. Дан список списков, каждый вложенный список состоит из 1 и 0, количество вложенных списков — количество рядов. Пользователь вводит, сколько билетов ему требуется. Программа должна найти ряд, где можно приобрести нужное количество билетов (места должны быть рядом). Если таких рядов несколько, то ближайший к экрану (ближайшим считается нулевой ряд). Если таких мест нет, то вывести False."
   ]
  },
  {
   "cell_type": "code",
   "execution_count": 41,
   "id": "6bfb3831",
   "metadata": {},
   "outputs": [
    {
     "name": "stdout",
     "output_type": "stream",
     "text": [
      "3\n"
     ]
    }
   ],
   "source": [
    "# Вариант №1 со всеми условиями\n",
    "sel_seats = 3 #input(\"Введите кол-во мест: \")\n",
    "\n",
    "def buy_seats(sel_seats):\n",
    "    all_cinema_seats = [[0,1,1,0], [1,1,0,0], [1,1,0,1], [1,0,0,0], [1,1,1,1]]\n",
    "    suitable_seats = []\n",
    "\n",
    "    for row_index, row in enumerate(all_cinema_seats):\n",
    "        count_seats = 0             # Счётчик последовательности мест, начиная с первого найденного \"0\" в ряде\n",
    "        current_seat = 0            # Перебор мест в цикле (индекс)\n",
    "        \n",
    "        while count_seats < sel_seats and current_seat < len(row):\n",
    "            if row[current_seat] == 0: \n",
    "                count_seats += 1    # Если место не занято, то добавляется +1 к счётчику\n",
    "            else:\n",
    "                count_seats = 0     # Если место занято, то сбрасывается счётчик\n",
    "            current_seat += 1\n",
    "\n",
    "        if count_seats >= sel_seats:  # Если кол-во необходимых мест найдено, то цикл for завершается\n",
    "                suitable_seats = row\n",
    "                return row_index\n",
    "        \n",
    "    if suitable_seats != []:\n",
    "         return suitable_seats\n",
    "    else:\n",
    "         return False\n",
    "         \n",
    "print(buy_seats(sel_seats))"
   ]
  },
  {
   "cell_type": "code",
   "execution_count": 38,
   "id": "27788601",
   "metadata": {},
   "outputs": [
    {
     "name": "stdout",
     "output_type": "stream",
     "text": [
      "False\n"
     ]
    }
   ],
   "source": [
    "# Вариант №2\n",
    "# Преобразует row в строку, после сравнивает, есть ли свободные места ['0'*sel_seats] в row\n",
    "\n",
    "def buy_seats():\n",
    "    all_cinema_seats = [[0,1,1,0], [1,1,0,0], [1,1,0,1], [1,0,0,0], [1,1,1,1]]\n",
    "    sel_seats = int(input(\"Введите кол-во мест: \"))\n",
    "    for row_index, row in enumerate(all_cinema_seats):\n",
    "        if '0'*sel_seats in ''.join(map(str, row)):\n",
    "            return row_index\n",
    "    return False\n",
    "\n",
    "print(buy_seats())"
   ]
  },
  {
   "cell_type": "markdown",
   "id": "48e11350",
   "metadata": {},
   "source": [
    "3. Написать упрощенную версию алгоритма RLE. Алгоритм RLE объединяет подряд идущие символы в коэффициент и символ."
   ]
  },
  {
   "cell_type": "code",
   "execution_count": null,
   "id": "f49c201b",
   "metadata": {},
   "outputs": [
    {
     "name": "stdout",
     "output_type": "stream",
     "text": [
      "1a3s3d3s4d1G\n"
     ]
    }
   ],
   "source": [
    "def RLE(data):\n",
    "    result_data = \"\"\n",
    "    current_symbol = 0 # Индекс, фиксирующий первый символ в последовательности из одинаковых символов\n",
    "    count = 0          # Счётчик последовательности из одинаковых символов\n",
    "\n",
    "    for index_symbol, symbol in enumerate(data):\n",
    "        if data[current_symbol] == symbol:      # Если символы совпадают, то +1 к счётчику\n",
    "            count += 1\n",
    "        else:                                   # Если символы не совпадают, то обновление промежуточного результата и сбрасывается счётчик\n",
    "            result_data += (f\"{count}{data[current_symbol]}\")\n",
    "            current_symbol = index_symbol\n",
    "            count = 1\n",
    "    \n",
    "    result_data += (f\"{count}{data[current_symbol]}\") # Добавляется к результату последнее значение счётчика\n",
    "    return result_data\n",
    "\n",
    "data = \"asssdddsssddddG\"\n",
    "print(RLE(data))"
   ]
  },
  {
   "cell_type": "markdown",
   "id": "9b3b08d6",
   "metadata": {},
   "source": [
    "4. Шифр Цезаря. Пользователь вводит строку и ключ шифра, программа должна вывести зашифрованную строку (со сдвигом по ключу). Сдвиг циклический. Используем только латинский алфавит, пробелы не шифруются."
   ]
  },
  {
   "cell_type": "code",
   "execution_count": 75,
   "id": "3a3c4be5",
   "metadata": {},
   "outputs": [
    {
     "name": "stdout",
     "output_type": "stream",
     "text": [
      "BcDe FgHi\n"
     ]
    }
   ],
   "source": [
    "def decryptor(data, shift):\n",
    "    result = \"\"\n",
    "    for symbol in data:\n",
    "        if symbol.isupper():\n",
    "            result += chr((ord(symbol) - ord(\"A\") + shift) % 26 + ord(\"A\"))\n",
    "        elif symbol.islower():\n",
    "            result += chr((ord(symbol) - ord(\"a\") + shift) % 26 + ord(\"a\"))\n",
    "        elif symbol == \" \":\n",
    "            result += \" \"\n",
    "        else:\n",
    "            result += symbol\n",
    "    return result\n",
    "\n",
    "shift = int(1)\n",
    "data = \"AbCd EfGh\"\n",
    "print(decryptor(data, shift))"
   ]
  },
  {
   "cell_type": "markdown",
   "id": "a3089401",
   "metadata": {},
   "source": [
    "5. Табель успеваемости. Пользователь в бесконечном цикле (пока не будет введена пустая строка) вводит строки вида: 'название предмета' 'фамилия ученика' 'оценка'. После окончания ввода программа выводит в консоль название предмета, далее список учеников и все их оценки в виде таблицы."
   ]
  },
  {
   "cell_type": "code",
   "execution_count": 2,
   "id": "237562c6",
   "metadata": {},
   "outputs": [
    {
     "name": "stdout",
     "output_type": "stream",
     "text": [
      "Математика\n",
      "Наташкин 5\n",
      "Елисеев 3\n",
      "\n",
      "Физкультура\n",
      "Осипов 4\n",
      "\n",
      "Анлийский\n",
      "Чернышов 5\n",
      "\n"
     ]
    }
   ],
   "source": [
    "def report_card():\n",
    "\n",
    "    subjects = {}  # Словарь: ключ - предмет, значение - словарь учеников и их оценок\n",
    "\n",
    "    while True:\n",
    "        line = input(\"Введите 'предмет' 'фамилия' 'оценка' (или пустая строка для выхода): \")\n",
    "        if not line: #if line == \"\":\n",
    "            break\n",
    "        parts = line.split() #разбиение по пробелам\n",
    "        if len(parts) != 3:\n",
    "            print(\"Неверный формат ввода. Пожалуйста, введите: предмет фамилия оценка\")\n",
    "            continue\n",
    "        subject, name, grade = parts # subject = parts[0], name = parts[1], grade = parts[2]  \n",
    "\n",
    "        # Инициализация структуры данных при первом вхождении предмета или ученика\n",
    "        if subject not in subjects:\n",
    "            subjects[subject] = {}\n",
    "        if name not in subjects[subject]:\n",
    "            subjects[subject][name] = []\n",
    "        subjects[subject][name].append(grade)\n",
    "\n",
    "    # Вывод результата\n",
    "    for subject, students in subjects.items():\n",
    "        print(f\"{subject}\")\n",
    "        for name, grades in students.items():\n",
    "            print(name, *grades)\n",
    "        print()  # Пустая строка между предметами\n",
    "\n",
    "report_card()"
   ]
  }
 ],
 "metadata": {
  "kernelspec": {
   "display_name": "Python 3",
   "language": "python",
   "name": "python3"
  },
  "language_info": {
   "codemirror_mode": {
    "name": "ipython",
    "version": 3
   },
   "file_extension": ".py",
   "mimetype": "text/x-python",
   "name": "python",
   "nbconvert_exporter": "python",
   "pygments_lexer": "ipython3",
   "version": "3.13.2"
  }
 },
 "nbformat": 4,
 "nbformat_minor": 5
}
