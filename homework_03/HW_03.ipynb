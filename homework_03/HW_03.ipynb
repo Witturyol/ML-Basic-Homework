{
 "cells": [
  {
   "cell_type": "markdown",
   "id": "6f12ee30",
   "metadata": {},
   "source": [
    "1. Написать функцию, которая будет перводить снейк_кейс в КэмелКейс и наоборот. Функция сама определяет - какой формат ей передали. Можно добавить ключевой аргумент, который будет принудительно возвращать один из форматов."
   ]
  },
  {
   "cell_type": "code",
   "execution_count": 10,
   "id": "f099d6b6",
   "metadata": {},
   "outputs": [
    {
     "name": "stdout",
     "output_type": "stream",
     "text": [
      "sad_cat_bad\n",
      "BadSadCat\n"
     ]
    }
   ],
   "source": [
    "def transform(data):\n",
    "    parts = []\n",
    "    if \"_\" in data: \n",
    "        parts = data.split(\"_\")\n",
    "        for index, part in enumerate(parts):\n",
    "            parts[index] = part.title()\n",
    "        data = \"\".join(parts)\n",
    "        return data\n",
    "    else:\n",
    "        for index, symbol in enumerate(data):\n",
    "            if symbol.isupper() and index != 0:\n",
    "                parts.append(\"_\")    \n",
    "            parts.append(symbol.lower())\n",
    "        data = \"\".join(parts)\n",
    "        return data\n",
    "\n",
    "data = \"SadCatBad\"\n",
    "print(transform(data))\n",
    "\n",
    "data = \"bad_sad_cat\"\n",
    "print(transform(data))"
   ]
  },
  {
   "cell_type": "markdown",
   "id": "7d5c8cda",
   "metadata": {},
   "source": [
    "2. Написать функцию проверяющую валидность введенной даты."
   ]
  },
  {
   "cell_type": "code",
   "execution_count": 35,
   "id": "0a3afcaa",
   "metadata": {},
   "outputs": [
    {
     "name": "stdout",
     "output_type": "stream",
     "text": [
      "Дата указана верно! (с проверкой високосного года)\n",
      "Дата указана неверно!\n"
     ]
    }
   ],
   "source": [
    "def valid_date(date):\n",
    "    day, month, year = map(int, date.split(\".\"))\n",
    "    month_str = date.split(\".\")[1]                          # Месяц как 'str'\n",
    "    days_in_month = {\"01\":31, \"02\":29, \"03\":31, \"04\":30, \n",
    "                     \"05\":31, \"06\":30, \"07\":31, \"08\":31,\n",
    "                     \"09\":30, \"10\":31, \"11\":30, \"12\":31}\n",
    "    \n",
    "    if month > 12 or month < 1 or year < 1 or day < 1: \n",
    "        return \"Дата указана неверно!\"\n",
    "    if day > days_in_month[month_str]:\n",
    "        return \"День указан неверно!\"\n",
    "    if month == 2 and day == 29:\n",
    "        if (year % 4 == 0 and year % 100 != 0) or (year % 400 == 0):\n",
    "            return \"Дата указана верно! (с проверкой високосного года)\"\n",
    "        else:\n",
    "            return \"В указанном году всего 28 дней, а не 29!\"\n",
    "\n",
    "    return \"Дата указана верно!\"\n",
    "\n",
    "\n",
    "date = \"29.02.2024\"\n",
    "print(valid_date(date))\n",
    "\n",
    "date = \"11.13.1955\"\n",
    "print(valid_date(date))"
   ]
  },
  {
   "cell_type": "markdown",
   "id": "4a1604ef",
   "metadata": {},
   "source": [
    "3. Функция проверки на простое число. Простые числа – это такие числа, которые делятся на себя и на единицу."
   ]
  },
  {
   "cell_type": "code",
   "execution_count": null,
   "id": "a3503348",
   "metadata": {},
   "outputs": [
    {
     "name": "stdout",
     "output_type": "stream",
     "text": [
      "True\n",
      "True\n",
      "False\n",
      "True\n"
     ]
    }
   ],
   "source": [
    "def number_is_prime(num):\n",
    "    if num <= 1:     return False\n",
    "    if num == 2:     return True\n",
    "    if num % 2 == 0: return False\n",
    "    for i in range(3, int(num**0.5) + 1, 2):\n",
    "        if num % i == 0:\n",
    "            return False\n",
    "    return True\n",
    "\n",
    "print(number_is_prime(35317)) \n",
    "print(number_is_prime(115249))\n",
    "print(number_is_prime(20179)) \n",
    "print(number_is_prime(2147483647)) "
   ]
  },
  {
   "cell_type": "markdown",
   "id": "776dd1e0",
   "metadata": {},
   "source": [
    "Пользователь в бесконечном цикле вводит данные пользователей: имя, затем фамилию, возраст и ID. Ввод продолжается до тех пор, пока не будет введено пустое поле.\n",
    "\n",
    "Пользователи заносятся в словарь, где ключ это ID пользователя, а остальные данные записываются в виде кортежа.\n",
    "\n",
    "Программа должна проверять:\n",
    "\n",
    "имя и фамилия состоят только из символов и начинаются с большой буквы - если не с большой, то заменяет букву на большую;\n",
    "возраст должен быть числом от 18 до 60;\n",
    "ID - целое число, дополненное до 8 знаков незначащими нулями, ID должен быть уникальным.\n",
    "Дополнительно: написать функцию, которая будет выводить полученный словарь в виде таблицы."
   ]
  },
  {
   "cell_type": "code",
   "execution_count": 30,
   "id": "e81b2426",
   "metadata": {},
   "outputs": [
    {
     "name": "stdout",
     "output_type": "stream",
     "text": [
      "00000228  -  ('Витя', 'Пупкин', '18')\n",
      "00000001  -  ('Гоша', 'Решала', '28')\n"
     ]
    }
   ],
   "source": [
    "def personal_data():\n",
    "    users = {}\n",
    "    while True:\n",
    "    \n",
    "        name = get_name()\n",
    "        surname = get_surname()\n",
    "        age = get_age()\n",
    "        id = get_id()\n",
    "\n",
    "        if id in users:\n",
    "            print(\"Такой ID уже есть. Попробуйте снова.\")\n",
    "            continue\n",
    "        \n",
    "        users[id] = (name, surname, age)\n",
    "        \n",
    "\n",
    "        next = input(\"Нажмите Enter для завершения цикла ввода. Иначе введите любой символ.\")\n",
    "        if not next:\n",
    "            for id, data in users.items():\n",
    "                print(id, \" - \", data)\n",
    "            break\n",
    "            \n",
    "        \n",
    "\n",
    "def get_name():\n",
    "    while True:\n",
    "        name = input(\"Введите имя:\" )\n",
    "        if not name:\n",
    "            print(\"Вы ничего не ввели.\")\n",
    "            continue\n",
    "\n",
    "        if not name.isalpha():\n",
    "            print(\"Имя должно содержать только буквы. Попробуйте снова.\")\n",
    "            continue\n",
    "        \n",
    "        if not name[0].isupper():\n",
    "            name = name[0].upper() + name[1:]\n",
    "        \n",
    "        return name\n",
    "        \n",
    "        \n",
    "def get_surname():\n",
    "    while True:\n",
    "        surname = input(\"Введите фамилию:\" )\n",
    "        if not surname:\n",
    "            print(\"Вы ничего не ввели.\")\n",
    "            continue\n",
    "        \n",
    "        if not surname.isalpha():\n",
    "            print(\"Фамилия должно содержать только буквы. Попробуйте снова.\")\n",
    "            continue\n",
    "        \n",
    "        if not surname[0].isupper():\n",
    "            surname = surname[0].upper() + surname[1:]\n",
    "        \n",
    "        return surname\n",
    "        \n",
    "def get_age():\n",
    "    while True:\n",
    "        age = input(\"Введите возраст:\" )\n",
    "        \n",
    "        if not age.isdigit():\n",
    "            print(\"Возраст должен содержать только цифры.\")\n",
    "            continue\n",
    "\n",
    "        if (int(age) < 18) or (int(age) > 60):\n",
    "            print(\"Для учёта Ваш возраст должен быть от 18 до 60 лет.\")\n",
    "            continue\n",
    "        \n",
    "        return age\n",
    "    \n",
    "def get_id():\n",
    "    while True:\n",
    "        id = input(\"Введите ID:\" )\n",
    "\n",
    "        if not id.isdigit():\n",
    "            print(\"ID должен содержать только цифры.\")\n",
    "            continue\n",
    "\n",
    "        if len(id) > 8:\n",
    "            print(\"ID должен содержать не больше 8 цифр.\")\n",
    "            continue\n",
    "        \n",
    "        id = f\"{int(id):08d}\"\n",
    "        #id = \"0\"*(8 - len(id)) + id\n",
    "\n",
    "        return id\n",
    "    \n",
    "personal_data()"
   ]
  },
  {
   "cell_type": "code",
   "execution_count": null,
   "id": "ff34a7f5",
   "metadata": {},
   "outputs": [],
   "source": [
    "# ООП\n",
    "\n"
   ]
  }
 ],
 "metadata": {
  "kernelspec": {
   "display_name": "Python 3",
   "language": "python",
   "name": "python3"
  },
  "language_info": {
   "codemirror_mode": {
    "name": "ipython",
    "version": 3
   },
   "file_extension": ".py",
   "mimetype": "text/x-python",
   "name": "python",
   "nbconvert_exporter": "python",
   "pygments_lexer": "ipython3",
   "version": "3.13.2"
  }
 },
 "nbformat": 4,
 "nbformat_minor": 5
}
