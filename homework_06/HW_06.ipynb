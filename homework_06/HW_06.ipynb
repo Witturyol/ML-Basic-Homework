{
 "cells": [
  {
   "cell_type": "code",
   "execution_count": null,
   "id": "b99d57c2",
   "metadata": {},
   "outputs": [
    {
     "name": "stdout",
     "output_type": "stream",
     "text": [
      "10\n",
      "10\n"
     ]
    }
   ],
   "source": [
    "class MyClass:\n",
    "    def __init__(self, value):\n",
    "        self._value = value\n",
    "\n",
    "    @property\n",
    "    def values(self):\n",
    "        \"\"\"Геттер для value.\"\"\"\n",
    "        return self._value\n",
    "\n",
    "obj = MyClass(10)\n",
    "print(obj._value)  # 10\n",
    "print(obj.values)  # 10"
   ]
  },
  {
   "cell_type": "code",
   "execution_count": null,
   "id": "90299e7d",
   "metadata": {},
   "outputs": [
    {
     "name": "stdout",
     "output_type": "stream",
     "text": [
      "10\n"
     ]
    }
   ],
   "source": []
  }
 ],
 "metadata": {
  "kernelspec": {
   "display_name": "Python 3",
   "language": "python",
   "name": "python3"
  },
  "language_info": {
   "codemirror_mode": {
    "name": "ipython",
    "version": 3
   },
   "file_extension": ".py",
   "mimetype": "text/x-python",
   "name": "python",
   "nbconvert_exporter": "python",
   "pygments_lexer": "ipython3",
   "version": "3.13.2"
  }
 },
 "nbformat": 4,
 "nbformat_minor": 5
}
